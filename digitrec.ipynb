{
 "cells": [
  {
   "cell_type": "code",
   "execution_count": 69,
   "metadata": {},
   "outputs": [],
   "source": [
    "import numpy as np\n",
    "import matplotlib.pyplot as plt\n",
    "import keras\n",
    "from keras.datasets import mnist\n",
    "from keras.models import Sequential\n",
    "from keras.layers import Dense, Conv2D, MaxPooling2D, Flatten, Dropout\n",
    "from keras.callbacks import EarlyStopping, ModelCheckpoint"
   ]
  },
  {
   "cell_type": "code",
   "execution_count": 70,
   "metadata": {},
   "outputs": [
    {
     "data": {
      "text/plain": [
       "((60000, 28, 28), (60000,), (10000, 28, 28), (10000,))"
      ]
     },
     "execution_count": 70,
     "metadata": {},
     "output_type": "execute_result"
    }
   ],
   "source": [
    "(X_train, y_train), (X_test, y_test)=mnist.load_data()\n",
    "\n",
    "X_train.shape, y_train.shape, X_test.shape, y_test.shape"
   ]
  },
  {
   "cell_type": "code",
   "execution_count": 71,
   "metadata": {},
   "outputs": [],
   "source": [
    "def plot_input_img(i):\n",
    "    plt.imshow(X_train[i],cmap='binary')\n",
    "    plt.title(y_train[i])\n",
    "    plt.show()"
   ]
  },
  {
   "cell_type": "code",
   "execution_count": null,
   "metadata": {},
   "outputs": [],
   "source": [
    "for i in range(10):\n",
    "    plot_input_img(i)"
   ]
  },
  {
   "cell_type": "code",
   "execution_count": 72,
   "metadata": {},
   "outputs": [],
   "source": [
    "#Pre Process the images\n",
    "\n",
    "#Normalizing the image to [0,1] range\n",
    "X_train=X_train.astype(np.float32)/255\n",
    "X_test=X_test.astype(np.float32)/255\n",
    "\n",
    "#Reshape/expand the dimensions of images to (28,28,1)\n",
    "X_train=np.expand_dims(X_train,axis=-1)\n",
    "X_test=np.expand_dims(X_test,axis=-1)\n",
    "\n",
    "#convert classes to one hot vectors\n",
    "y_train=keras.utils.to_categorical(y_train)\n",
    "y_test=keras.utils.to_categorical(y_test)"
   ]
  },
  {
   "cell_type": "code",
   "execution_count": 73,
   "metadata": {},
   "outputs": [],
   "source": [
    "model=Sequential()\n",
    "model.add(Conv2D(32,(3,3),input_shape=(28,28,1), activation='relu'))\n",
    "model.add(MaxPool2D((2,2)))\n",
    "\n",
    "model.add(Conv2D(64,(3,3), activation='relu'))\n",
    "model.add(MaxPool2D((2,2)))\n",
    "\n",
    "model.add(Flatten())\n",
    "\n",
    "#to prevent overfitting\n",
    "\n",
    "model.add(Dropout(0.25))\n",
    "\n",
    "model.add(Dense(10,activation='softmax'))"
   ]
  },
  {
   "cell_type": "code",
   "execution_count": 74,
   "metadata": {},
   "outputs": [
    {
     "name": "stdout",
     "output_type": "stream",
     "text": [
      "Model: \"sequential_7\"\n",
      "_________________________________________________________________\n",
      " Layer (type)                Output Shape              Param #   \n",
      "=================================================================\n",
      " conv2d_14 (Conv2D)          (None, 26, 26, 32)        320       \n",
      "                                                                 \n",
      " max_pooling2d_14 (MaxPooli  (None, 13, 13, 32)        0         \n",
      " ng2D)                                                           \n",
      "                                                                 \n",
      " conv2d_15 (Conv2D)          (None, 11, 11, 64)        18496     \n",
      "                                                                 \n",
      " max_pooling2d_15 (MaxPooli  (None, 5, 5, 64)          0         \n",
      " ng2D)                                                           \n",
      "                                                                 \n",
      " flatten_7 (Flatten)         (None, 1600)              0         \n",
      "                                                                 \n",
      " dropout_7 (Dropout)         (None, 1600)              0         \n",
      "                                                                 \n",
      " dense_7 (Dense)             (None, 10)                16010     \n",
      "                                                                 \n",
      "=================================================================\n",
      "Total params: 34826 (136.04 KB)\n",
      "Trainable params: 34826 (136.04 KB)\n",
      "Non-trainable params: 0 (0.00 Byte)\n",
      "_________________________________________________________________\n"
     ]
    }
   ],
   "source": [
    "model.summary()"
   ]
  },
  {
   "cell_type": "code",
   "execution_count": 75,
   "metadata": {},
   "outputs": [
    {
     "name": "stdout",
     "output_type": "stream",
     "text": [
      "X_train shape: (60000, 28, 28, 1)\n",
      "y_train shape: (60000, 10)\n",
      "Model output shape: (None, 10)\n"
     ]
    }
   ],
   "source": [
    "print('X_train shape:', X_train.shape)\n",
    "print('y_train shape:', y_train.shape)\n",
    "print('Model output shape:', model.output_shape)  # Ensure this matches (None, 10)"
   ]
  },
  {
   "cell_type": "code",
   "execution_count": 76,
   "metadata": {},
   "outputs": [],
   "source": [
    "model.compile(optimizer='adam',\n",
    "              loss='categorical_crossentropy',\n",
    "              metrics=['accuracy'])"
   ]
  },
  {
   "cell_type": "code",
   "execution_count": 79,
   "metadata": {},
   "outputs": [],
   "source": [
    "es = EarlyStopping(monitor='val_accuracy', min_delta=0.01, patience=4, verbose=1)\n",
    "# Model checkpoint to save the best model based on validation accuracy\n",
    "mc = ModelCheckpoint('best_model.h5', monitor='val_accuracy', verbose=1, save_best_only=True, mode='max')\n",
    "\n",
    "callbacks = [es, mc]"
   ]
  },
  {
   "cell_type": "code",
   "execution_count": 80,
   "metadata": {},
   "outputs": [],
   "source": [
    "model.compile(optimizer='adam', loss='categorical_crossentropy', metrics=['accuracy'])"
   ]
  },
  {
   "cell_type": "code",
   "execution_count": 81,
   "metadata": {},
   "outputs": [
    {
     "name": "stdout",
     "output_type": "stream",
     "text": [
      "Epoch 1/50\n",
      "1306/1313 [============================>.] - ETA: 0s - loss: 0.2269 - accuracy: 0.9307\n",
      "Epoch 1: val_accuracy improved from -inf to 0.97211, saving model to best_model.h5\n",
      "1313/1313 [==============================] - 12s 9ms/step - loss: 0.2263 - accuracy: 0.9309 - val_loss: 0.0903 - val_accuracy: 0.9721\n",
      "Epoch 2/50\n",
      "  24/1313 [..............................] - ETA: 5s - loss: 0.0695 - accuracy: 0.9818"
     ]
    },
    {
     "name": "stderr",
     "output_type": "stream",
     "text": [
      "G:\\Anaconda\\Lib\\site-packages\\keras\\src\\engine\\training.py:3103: UserWarning: You are saving your model as an HDF5 file via `model.save()`. This file format is considered legacy. We recommend using instead the native Keras format, e.g. `model.save('my_model.keras')`.\n",
      "  saving_api.save_model(\n"
     ]
    },
    {
     "name": "stdout",
     "output_type": "stream",
     "text": [
      "1313/1313 [==============================] - ETA: 0s - loss: 0.0769 - accuracy: 0.9769\n",
      "Epoch 2: val_accuracy improved from 0.97211 to 0.98306, saving model to best_model.h5\n",
      "1313/1313 [==============================] - 12s 9ms/step - loss: 0.0769 - accuracy: 0.9769 - val_loss: 0.0583 - val_accuracy: 0.9831\n",
      "Epoch 3/50\n",
      "1310/1313 [============================>.] - ETA: 0s - loss: 0.0571 - accuracy: 0.9819\n",
      "Epoch 3: val_accuracy improved from 0.98306 to 0.98428, saving model to best_model.h5\n",
      "1313/1313 [==============================] - 11s 9ms/step - loss: 0.0571 - accuracy: 0.9820 - val_loss: 0.0506 - val_accuracy: 0.9843\n",
      "Epoch 4/50\n",
      "1307/1313 [============================>.] - ETA: 0s - loss: 0.0446 - accuracy: 0.9865\n",
      "Epoch 4: val_accuracy did not improve from 0.98428\n",
      "1313/1313 [==============================] - 11s 9ms/step - loss: 0.0447 - accuracy: 0.9864 - val_loss: 0.0517 - val_accuracy: 0.9842\n",
      "Epoch 5/50\n",
      "1306/1313 [============================>.] - ETA: 0s - loss: 0.0373 - accuracy: 0.9881\n",
      "Epoch 5: val_accuracy improved from 0.98428 to 0.98750, saving model to best_model.h5\n",
      "1313/1313 [==============================] - 10s 8ms/step - loss: 0.0373 - accuracy: 0.9880 - val_loss: 0.0428 - val_accuracy: 0.9875\n",
      "Epoch 6/50\n",
      "1310/1313 [============================>.] - ETA: 0s - loss: 0.0340 - accuracy: 0.9889\n",
      "Epoch 6: val_accuracy did not improve from 0.98750\n",
      "1313/1313 [==============================] - 12s 9ms/step - loss: 0.0340 - accuracy: 0.9889 - val_loss: 0.0423 - val_accuracy: 0.9872\n",
      "Epoch 6: early stopping\n"
     ]
    }
   ],
   "source": [
    "#Model training\n",
    "history = model.fit(X_train, y_train, epochs=50, validation_split=0.3, callbacks=callbacks)\n"
   ]
  },
  {
   "cell_type": "code",
   "execution_count": 83,
   "metadata": {},
   "outputs": [
    {
     "name": "stdout",
     "output_type": "stream",
     "text": [
      "313/313 [==============================] - 1s 2ms/step - loss: 0.0315 - accuracy: 0.9899\n",
      "Test accuracy: 0.9898999929428101\n"
     ]
    }
   ],
   "source": [
    "#testing\n",
    "test_loss, test_accuracy = model.evaluate(X_test, y_test)\n",
    "print(f'Test accuracy: {test_accuracy}')"
   ]
  },
  {
   "cell_type": "code",
   "execution_count": 85,
   "metadata": {},
   "outputs": [],
   "source": [
    "model_S=keras.models.load_model(\"G://python projects//digitrecognition//best_model.h5\")"
   ]
  },
  {
   "cell_type": "code",
   "execution_count": 86,
   "metadata": {},
   "outputs": [
    {
     "name": "stdout",
     "output_type": "stream",
     "text": [
      "313/313 [==============================] - 1s 2ms/step - loss: 0.0331 - accuracy: 0.9898\n",
      " the model accuracy is 0.989799976348877 \n"
     ]
    }
   ],
   "source": [
    "score=model_S.evaluate(X_test,y_test)\n",
    "print(f\" the model accuracy is {score[1]} \")"
   ]
  },
  {
   "cell_type": "code",
   "execution_count": null,
   "metadata": {},
   "outputs": [],
   "source": []
  }
 ],
 "metadata": {
  "kernelspec": {
   "display_name": "Python 3 (ipykernel)",
   "language": "python",
   "name": "python3"
  },
  "language_info": {
   "codemirror_mode": {
    "name": "ipython",
    "version": 3
   },
   "file_extension": ".py",
   "mimetype": "text/x-python",
   "name": "python",
   "nbconvert_exporter": "python",
   "pygments_lexer": "ipython3",
   "version": "3.11.5"
  }
 },
 "nbformat": 4,
 "nbformat_minor": 2
}
